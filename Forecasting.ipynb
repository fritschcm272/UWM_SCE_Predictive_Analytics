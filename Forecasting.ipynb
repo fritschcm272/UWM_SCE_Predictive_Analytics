{
 "cells": [
  {
   "cell_type": "markdown",
   "metadata": {},
   "source": [
    "# Import Libraries"
   ]
  },
  {
   "cell_type": "code",
   "execution_count": null,
   "metadata": {},
   "outputs": [],
   "source": [
    "import matplotlib.pyplot as plt\n",
    "import seaborn as sns\n",
    "import pandas as pd\n",
    "import numpy as np\n",
    "from ydata_profiling import ProfileReport\n",
    "%matplotlib inline\n",
    "from pandas.tseries.offsets import MonthEnd\n",
    "from matplotlib.pylab import rcParams\n",
    "pd.plotting.register_matplotlib_converters()\n",
    "rcParams['figure.figsize'] = (15, 6)\n",
    "import pmdarima as pm\n",
    "print('done')"
   ]
  },
  {
   "cell_type": "markdown",
   "metadata": {},
   "source": [
    "# Variables to Set"
   ]
  },
  {
   "cell_type": "code",
   "execution_count": null,
   "metadata": {},
   "outputs": [],
   "source": [
    "data = 'forecasting_dataset.csv'\n",
    "target_column = 'GDP ($ Billions)'\n",
    "pred_date = '2021-04-13'"
   ]
  },
  {
   "cell_type": "markdown",
   "metadata": {},
   "source": [
    "# Load/Transform Data"
   ]
  },
  {
   "cell_type": "code",
   "execution_count": null,
   "metadata": {},
   "outputs": [],
   "source": [
    "df = pd.read_csv(data)\n",
    "df.columns = df.columns.str.replace('DATEVALUE', 'Date')\n",
    "df['Date'] = pd.to_datetime(df['Date'])\n",
    "df.index = df['Date']\n",
    "df = df.drop('Date',axis=1)\n",
    "df"
   ]
  },
  {
   "cell_type": "markdown",
   "metadata": {},
   "source": [
    "# Profile Data"
   ]
  },
  {
   "cell_type": "code",
   "execution_count": null,
   "metadata": {},
   "outputs": [],
   "source": [
    "ProfileReport(df)"
   ]
  },
  {
   "cell_type": "markdown",
   "metadata": {},
   "source": [
    "# Split into Training and Validation Data"
   ]
  },
  {
   "cell_type": "code",
   "execution_count": null,
   "metadata": {},
   "outputs": [],
   "source": [
    "train = df[:int(0.75*(len(df)))]\n",
    "valid = df[int(0.75*(len(df))):]\n",
    "\n",
    "#plotting the data\n",
    "ax = train[target_column].plot()\n",
    "valid[target_column].plot(ax=ax)"
   ]
  },
  {
   "cell_type": "markdown",
   "metadata": {},
   "source": [
    "# Stationarity\n",
    "- Stationarity means that the statistical properties of the process do not change over time\n",
    "- Random variables of the stochastic process remains the same as we shift it along the time index axis. (Mean and Variance)\n",
    "- Stationary processes are easier to analyze"
   ]
  },
  {
   "cell_type": "code",
   "execution_count": null,
   "metadata": {},
   "outputs": [],
   "source": [
    "from statsmodels.tsa.stattools import adfuller as adf\n",
    "def test_stationarity(timeseries):\n",
    "    \n",
    "    #Determing rolling statistics\n",
    "    rolmean = timeseries.rolling(12).mean()\n",
    "    rolstd = timeseries.rolling(12).std()\n",
    "\n",
    "    #Plot rolling statistics:\n",
    "    orig = plt.plot(timeseries, color='blue',label='Original')\n",
    "    mean = plt.plot(rolmean, color='red', label='Rolling Mean')\n",
    "    std = plt.plot(rolstd, color='black', label = 'Rolling Std')\n",
    "    plt.legend(loc='best')\n",
    "    plt.title('Rolling Mean & Standard Deviation')\n",
    "    plt.show(block=False)\n",
    "    \n",
    "test_stationarity(df[target_column])"
   ]
  },
  {
   "cell_type": "markdown",
   "metadata": {},
   "source": [
    "#### Analysis of Stationarity\n",
    "- Even though there is an increasing trend for GDP, the rolling mean and standard deviations do not have large variances from year to year."
   ]
  },
  {
   "cell_type": "markdown",
   "metadata": {},
   "source": [
    "# Trends and Seasonality\n",
    " - Plot of Original Data\n",
    " - Plot of Smoothed Moving Average of Original Data\n",
    " - Plot of Seasonality\n",
    "     - Seasonality is the presence of variations that occur at specific regular intervals less than a year, such as weekly, monthly, or quarterly\n",
    " - Plot of Residuals on a Simple Regression Fit\n",
    "     - What is left over after fitting a model."
   ]
  },
  {
   "cell_type": "code",
   "execution_count": null,
   "metadata": {},
   "outputs": [],
   "source": [
    "#estimating trend and seasonlity\n",
    "from statsmodels.tsa.seasonal import seasonal_decompose\n",
    "decomposition = seasonal_decompose(df[target_column])\n",
    "\n",
    "trend = decomposition.trend\n",
    "seasonal = decomposition.seasonal\n",
    "residual = decomposition.resid\n",
    "\n",
    "plt.subplot(411)\n",
    "plt.plot(df[target_column], label='Original')\n",
    "plt.legend(loc='best')\n",
    "plt.subplot(412)\n",
    "plt.plot(trend, label='Trend')\n",
    "plt.legend(loc='best')\n",
    "plt.subplot(413)\n",
    "plt.plot(seasonal,label='Seasonality')\n",
    "plt.legend(loc='best')\n",
    "plt.subplot(414)\n",
    "plt.plot(residual, label='Residuals')\n",
    "plt.legend(loc='best')\n",
    "plt.tight_layout()"
   ]
  },
  {
   "cell_type": "markdown",
   "metadata": {},
   "source": [
    "# ARIMA Modeling without Regressors (Only the Target)\n",
    "- Autoregressive (AR) integrated (I) moving average (MA) models\n",
    "- We are not going to go into a lot of detail on the parts of ARIMA, Differencing and Lags (This could be multiple college semester courses)\n",
    "- Instead, what we will do is use Auto-Arima package to find the best model."
   ]
  },
  {
   "cell_type": "code",
   "execution_count": null,
   "metadata": {},
   "outputs": [],
   "source": [
    "best_noregressors = pm.auto_arima(train.iloc[:,0], \n",
    "                   trace=True, error_action='ignore', suppress_warnings=True,\n",
    "                   seasonal=True,\n",
    "                   m=12, #12 Months\n",
    "                   stepwise=False,\n",
    "                   D=None, \n",
    "                   max_D=10,\n",
    "                   start_p=0, start_q=0, \n",
    "                   start_P=0, start_Q=0,\n",
    "                   max_p=5, max_q=5, max_P=5, max_Q=5,\n",
    "                   information_criterion='aic', #‘aic’, ‘bic’, ‘hqic’, ‘oob’\n",
    "                   n_jobs = -1,\n",
    "                  )\n",
    "\n",
    "print(best_noregressors)\n",
    "print('Order :',best_noregressors.order)\n",
    "print('Seasonal Order :',best_noregressors.seasonal_order)\n",
    "print('Intercept :',best_noregressors.with_intercept)\n",
    "print(best_noregressors.summary())"
   ]
  },
  {
   "cell_type": "markdown",
   "metadata": {},
   "source": [
    "# Fit Model and Make Predictions on Validation"
   ]
  },
  {
   "cell_type": "code",
   "execution_count": null,
   "metadata": {},
   "outputs": [],
   "source": [
    "best_noregressors.fit(train.iloc[:,0])\n",
    "best_noregressors_forecast = best_noregressors.predict(n_periods=len(valid), exogenous=True, return_conf_int=True,  alpha=0.1)\n",
    "\n",
    "preds_best_noregressors = pd.merge(pd.DataFrame(best_noregressors_forecast[0],\n",
    "                 index = pd.to_datetime(valid.index),\n",
    "                 columns=['Prediction']),pd.DataFrame(best_noregressors_forecast[1][:,0],\n",
    "                        index = pd.to_datetime(valid.index),\n",
    "                        columns=['Lower']),how='left', left_index=True,right_index=True)\n",
    "\n",
    "preds_best_noregressors = pd.merge(preds_best_noregressors,pd.DataFrame(best_noregressors_forecast[1][:,1],\n",
    "                        index = pd.to_datetime(valid.index),\n",
    "                        columns=['Upper']),how='left',left_index=True,right_index=True)\n",
    "\n",
    "#plot the predictions for validation set\n",
    "plt.plot(train.iloc[:,0], label='Train')\n",
    "plt.plot(valid.iloc[:,0], label='Valid')\n",
    "plt.plot(preds_best_noregressors.Prediction, label='Prediction')\n",
    "\n",
    "plt.fill_between(preds_best_noregressors.index,preds_best_noregressors.Lower,preds_best_noregressors.Upper,color='k', alpha=.2)\n",
    "plt.xlabel('Date')\n",
    "plt.ylabel(target_column)\n",
    "plt.legend(loc='best')\n",
    "plt.show()"
   ]
  },
  {
   "cell_type": "markdown",
   "metadata": {},
   "source": [
    "# ARIMA Modeling with Regressors (Target and Additional Features)\n",
    "- exogenous parameter is the ony change"
   ]
  },
  {
   "cell_type": "code",
   "execution_count": null,
   "metadata": {},
   "outputs": [],
   "source": [
    "best_regressors = pm.auto_arima(train.iloc[:,0], \n",
    "                   trace=True, error_action='ignore', suppress_warnings=True,\n",
    "                   seasonal=True,\n",
    "                   m=12, #12 Months\n",
    "                   stepwise=False,\n",
    "                   D=None, \n",
    "                   max_D=10,\n",
    "                   start_p=0, start_q=0, \n",
    "                   start_P=0, start_Q=0,\n",
    "                   max_p=5, max_q=5, max_P=5, max_Q=5,\n",
    "                   information_criterion='aic', #‘aic’, ‘bic’, ‘hqic’, ‘oob’\n",
    "                   n_jobs = -1,\n",
    "                   exogenous=train.iloc[:,1:]\n",
    "                  )\n",
    "\n",
    "print(best_regressors)\n",
    "print('Order :',best_regressors.order)\n",
    "print('Seasonal Order :',best_regressors.seasonal_order)\n",
    "print('Intercept :',best_regressors.with_intercept)\n",
    "print(best_regressors.summary())"
   ]
  },
  {
   "cell_type": "markdown",
   "metadata": {},
   "source": [
    "# Fit Model and Make Predictions on Validation"
   ]
  },
  {
   "cell_type": "code",
   "execution_count": null,
   "metadata": {},
   "outputs": [],
   "source": [
    "best_regressors.fit(train.iloc[:,0])\n",
    "best_regressors_forecast = best_regressors.predict(n_periods=len(valid), exogenous=True, return_conf_int=True,  alpha=0.1)\n",
    "\n",
    "preds_best_regressors = pd.merge(pd.DataFrame(best_regressors_forecast[0],\n",
    "                 index = pd.to_datetime(valid.index),\n",
    "                 columns=['Prediction']),pd.DataFrame(best_regressors_forecast[1][:,0],\n",
    "                        index = pd.to_datetime(valid.index),\n",
    "                        columns=['Lower']),how='left', left_index=True,right_index=True)\n",
    "\n",
    "preds_best_regressors = pd.merge(preds_best_regressors,pd.DataFrame(best_regressors_forecast[1][:,1],\n",
    "                        index = pd.to_datetime(valid.index),\n",
    "                        columns=['Upper']),how='left',left_index=True,right_index=True)\n",
    "\n",
    "#plot the predictions for validation set\n",
    "plt.plot(train.iloc[:,0], label='Train')\n",
    "plt.plot(valid.iloc[:,0], label='Valid')\n",
    "plt.plot(preds_best_regressors.Prediction, label='Prediction')\n",
    "\n",
    "plt.fill_between(preds_best_regressors.index,preds_best_regressors.Lower,preds_best_regressors.Upper,color='k', alpha=.2)\n",
    "plt.xlabel('Date')\n",
    "plt.ylabel(target_column)\n",
    "plt.legend(loc='best')\n",
    "plt.show()"
   ]
  },
  {
   "cell_type": "markdown",
   "metadata": {},
   "source": [
    "# Choose a ARIMA model and predict future"
   ]
  },
  {
   "cell_type": "code",
   "execution_count": null,
   "metadata": {},
   "outputs": [],
   "source": [
    "pred_months = 12\n",
    "model = best_regressors.fit(df.iloc[:,0])\n",
    "\n",
    "\n",
    "\n",
    "forecast = model.predict(n_periods=pred_months, exogenous=True, return_conf_int=True,  alpha=0.25)\n",
    "forecast"
   ]
  },
  {
   "cell_type": "code",
   "execution_count": null,
   "metadata": {},
   "outputs": [],
   "source": [
    "preds = pd.merge(pd.DataFrame(forecast[0],columns=['Prediction']).reset_index(),\n",
    "                 pd.DataFrame(forecast[1][:,0],columns=['Lower']),\n",
    "                              how='left', left_index=True,right_index=True)\n",
    "preds = pd.merge(preds,pd.DataFrame(forecast[1][:,1],columns=['Upper']),\n",
    "                              how='left', left_index=True,right_index=True)\n",
    "\n",
    "preds = preds.rename(columns={'index':'Date'})\n",
    "\n",
    "preds = preds.set_index('Date')\n",
    "\n",
    "display(preds)"
   ]
  },
  {
   "cell_type": "code",
   "execution_count": null,
   "metadata": {},
   "outputs": [],
   "source": [
    "#plot the predictions for validation set\n",
    "plt.plot(df.iloc[:,0], label='Previous')\n",
    "plt.plot(preds.Prediction, label='Prediction')\n",
    "\n",
    "plt.fill_between(preds.index,preds.Lower,preds.Upper,color='k', alpha=.2)\n",
    "plt.xlabel('Date')\n",
    "plt.ylabel('Terminations')\n",
    "plt.legend(loc='best')\n",
    "plt.show()"
   ]
  }
 ],
 "metadata": {
  "kernelspec": {
   "display_name": "Python 3 (ipykernel)",
   "language": "python",
   "name": "python3"
  },
  "language_info": {
   "codemirror_mode": {
    "name": "ipython",
    "version": 3
   },
   "file_extension": ".py",
   "mimetype": "text/x-python",
   "name": "python",
   "nbconvert_exporter": "python",
   "pygments_lexer": "ipython3",
   "version": "3.9.18"
  }
 },
 "nbformat": 4,
 "nbformat_minor": 4
}
