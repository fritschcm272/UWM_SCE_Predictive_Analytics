{
 "cells": [
  {
   "cell_type": "markdown",
   "metadata": {},
   "source": [
    "### Set up for Forecasting"
   ]
  },
  {
   "cell_type": "code",
   "execution_count": 1,
   "metadata": {},
   "outputs": [
    {
     "name": "stderr",
     "output_type": "stream",
     "text": [
      "C:\\Users\\Administrator\\AppData\\Roaming\\Python\\Python39\\site-packages\\pandas\\core\\arrays\\masked.py:60: UserWarning: Pandas requires version '1.3.6' or newer of 'bottleneck' (version '1.3.5' currently installed).\n",
      "  from pandas.core import (\n"
     ]
    },
    {
     "data": {
      "text/html": [
       "<div>\n",
       "<style scoped>\n",
       "    .dataframe tbody tr th:only-of-type {\n",
       "        vertical-align: middle;\n",
       "    }\n",
       "\n",
       "    .dataframe tbody tr th {\n",
       "        vertical-align: top;\n",
       "    }\n",
       "\n",
       "    .dataframe thead th {\n",
       "        text-align: right;\n",
       "    }\n",
       "</style>\n",
       "<table border=\"1\" class=\"dataframe\">\n",
       "  <thead>\n",
       "    <tr style=\"text-align: right;\">\n",
       "      <th></th>\n",
       "      <th>Date</th>\n",
       "      <th>GDP ($ Billions)</th>\n",
       "      <th>Federal Interest rate</th>\n",
       "      <th>Unemployment Rate</th>\n",
       "      <th>Temperature (US Average)</th>\n",
       "      <th>Consumer Price Index</th>\n",
       "      <th>S&amp;P House price index</th>\n",
       "    </tr>\n",
       "  </thead>\n",
       "  <tbody>\n",
       "    <tr>\n",
       "      <th>0</th>\n",
       "      <td>1/1/2010</td>\n",
       "      <td>14611.110</td>\n",
       "      <td>0.11</td>\n",
       "      <td>9.8</td>\n",
       "      <td>30.67</td>\n",
       "      <td>216.687</td>\n",
       "      <td>145.00</td>\n",
       "    </tr>\n",
       "    <tr>\n",
       "      <th>1</th>\n",
       "      <td>2/1/2010</td>\n",
       "      <td>14653.075</td>\n",
       "      <td>0.13</td>\n",
       "      <td>9.8</td>\n",
       "      <td>31.80</td>\n",
       "      <td>216.741</td>\n",
       "      <td>143.06</td>\n",
       "    </tr>\n",
       "    <tr>\n",
       "      <th>2</th>\n",
       "      <td>3/1/2010</td>\n",
       "      <td>14779.004</td>\n",
       "      <td>0.16</td>\n",
       "      <td>9.9</td>\n",
       "      <td>43.57</td>\n",
       "      <td>217.631</td>\n",
       "      <td>143.60</td>\n",
       "    </tr>\n",
       "    <tr>\n",
       "      <th>3</th>\n",
       "      <td>4/1/2010</td>\n",
       "      <td>14842.404</td>\n",
       "      <td>0.20</td>\n",
       "      <td>9.9</td>\n",
       "      <td>53.24</td>\n",
       "      <td>218.009</td>\n",
       "      <td>145.39</td>\n",
       "    </tr>\n",
       "    <tr>\n",
       "      <th>4</th>\n",
       "      <td>5/1/2010</td>\n",
       "      <td>14875.794</td>\n",
       "      <td>0.20</td>\n",
       "      <td>9.6</td>\n",
       "      <td>59.88</td>\n",
       "      <td>218.178</td>\n",
       "      <td>147.02</td>\n",
       "    </tr>\n",
       "  </tbody>\n",
       "</table>\n",
       "</div>"
      ],
      "text/plain": [
       "       Date  GDP ($ Billions)  Federal Interest rate  Unemployment Rate  \\\n",
       "0  1/1/2010         14611.110                   0.11                9.8   \n",
       "1  2/1/2010         14653.075                   0.13                9.8   \n",
       "2  3/1/2010         14779.004                   0.16                9.9   \n",
       "3  4/1/2010         14842.404                   0.20                9.9   \n",
       "4  5/1/2010         14875.794                   0.20                9.6   \n",
       "\n",
       "   Temperature (US Average)  Consumer Price Index  S&P House price index  \n",
       "0                     30.67               216.687                 145.00  \n",
       "1                     31.80               216.741                 143.06  \n",
       "2                     43.57               217.631                 143.60  \n",
       "3                     53.24               218.009                 145.39  \n",
       "4                     59.88               218.178                 147.02  "
      ]
     },
     "execution_count": 1,
     "metadata": {},
     "output_type": "execute_result"
    }
   ],
   "source": [
    "import pandas as pd\n",
    "df = pd.read_csv('forecasting_dataset.csv')\n",
    "df.head()"
   ]
  },
  {
   "cell_type": "code",
   "execution_count": 2,
   "metadata": {},
   "outputs": [],
   "source": [
    "import plotly.io as pio\n",
    "pio.renderers.default='iframe'"
   ]
  },
  {
   "cell_type": "code",
   "execution_count": 3,
   "metadata": {},
   "outputs": [
    {
     "data": {
      "text/html": [
       "<div>\n",
       "<style scoped>\n",
       "    .dataframe tbody tr th:only-of-type {\n",
       "        vertical-align: middle;\n",
       "    }\n",
       "\n",
       "    .dataframe tbody tr th {\n",
       "        vertical-align: top;\n",
       "    }\n",
       "\n",
       "    .dataframe thead th {\n",
       "        text-align: right;\n",
       "    }\n",
       "</style>\n",
       "<table border=\"1\" class=\"dataframe\">\n",
       "  <thead>\n",
       "    <tr style=\"text-align: right;\">\n",
       "      <th></th>\n",
       "      <th>Date</th>\n",
       "      <th>GDP ($ Billions)</th>\n",
       "      <th>Federal Interest rate</th>\n",
       "      <th>Unemployment Rate</th>\n",
       "      <th>Temperature (US Average)</th>\n",
       "      <th>Consumer Price Index</th>\n",
       "      <th>S&amp;P House price index</th>\n",
       "      <th>target</th>\n",
       "    </tr>\n",
       "  </thead>\n",
       "  <tbody>\n",
       "    <tr>\n",
       "      <th>0</th>\n",
       "      <td>1/1/2010</td>\n",
       "      <td>14611.110</td>\n",
       "      <td>0.11</td>\n",
       "      <td>9.8</td>\n",
       "      <td>30.67</td>\n",
       "      <td>216.687</td>\n",
       "      <td>145.00</td>\n",
       "      <td>14611.110</td>\n",
       "    </tr>\n",
       "    <tr>\n",
       "      <th>1</th>\n",
       "      <td>2/1/2010</td>\n",
       "      <td>14653.075</td>\n",
       "      <td>0.13</td>\n",
       "      <td>9.8</td>\n",
       "      <td>31.80</td>\n",
       "      <td>216.741</td>\n",
       "      <td>143.06</td>\n",
       "      <td>14653.075</td>\n",
       "    </tr>\n",
       "    <tr>\n",
       "      <th>2</th>\n",
       "      <td>3/1/2010</td>\n",
       "      <td>14779.004</td>\n",
       "      <td>0.16</td>\n",
       "      <td>9.9</td>\n",
       "      <td>43.57</td>\n",
       "      <td>217.631</td>\n",
       "      <td>143.60</td>\n",
       "      <td>14779.004</td>\n",
       "    </tr>\n",
       "    <tr>\n",
       "      <th>3</th>\n",
       "      <td>4/1/2010</td>\n",
       "      <td>14842.404</td>\n",
       "      <td>0.20</td>\n",
       "      <td>9.9</td>\n",
       "      <td>53.24</td>\n",
       "      <td>218.009</td>\n",
       "      <td>145.39</td>\n",
       "      <td>14842.404</td>\n",
       "    </tr>\n",
       "    <tr>\n",
       "      <th>4</th>\n",
       "      <td>5/1/2010</td>\n",
       "      <td>14875.794</td>\n",
       "      <td>0.20</td>\n",
       "      <td>9.6</td>\n",
       "      <td>59.88</td>\n",
       "      <td>218.178</td>\n",
       "      <td>147.02</td>\n",
       "      <td>14875.794</td>\n",
       "    </tr>\n",
       "  </tbody>\n",
       "</table>\n",
       "</div>"
      ],
      "text/plain": [
       "       Date  GDP ($ Billions)  Federal Interest rate  Unemployment Rate  \\\n",
       "0  1/1/2010         14611.110                   0.11                9.8   \n",
       "1  2/1/2010         14653.075                   0.13                9.8   \n",
       "2  3/1/2010         14779.004                   0.16                9.9   \n",
       "3  4/1/2010         14842.404                   0.20                9.9   \n",
       "4  5/1/2010         14875.794                   0.20                9.6   \n",
       "\n",
       "   Temperature (US Average)  Consumer Price Index  S&P House price index  \\\n",
       "0                     30.67               216.687                 145.00   \n",
       "1                     31.80               216.741                 143.06   \n",
       "2                     43.57               217.631                 143.60   \n",
       "3                     53.24               218.009                 145.39   \n",
       "4                     59.88               218.178                 147.02   \n",
       "\n",
       "      target  \n",
       "0  14611.110  \n",
       "1  14653.075  \n",
       "2  14779.004  \n",
       "3  14842.404  \n",
       "4  14875.794  "
      ]
     },
     "execution_count": 3,
     "metadata": {},
     "output_type": "execute_result"
    }
   ],
   "source": [
    "df['target'] = df['GDP ($ Billions)']\n",
    "df.head()"
   ]
  },
  {
   "cell_type": "code",
   "execution_count": 4,
   "metadata": {},
   "outputs": [
    {
     "data": {
      "text/html": [
       "<div>\n",
       "<style scoped>\n",
       "    .dataframe tbody tr th:only-of-type {\n",
       "        vertical-align: middle;\n",
       "    }\n",
       "\n",
       "    .dataframe tbody tr th {\n",
       "        vertical-align: top;\n",
       "    }\n",
       "\n",
       "    .dataframe thead th {\n",
       "        text-align: right;\n",
       "    }\n",
       "</style>\n",
       "<table border=\"1\" class=\"dataframe\">\n",
       "  <thead>\n",
       "    <tr style=\"text-align: right;\">\n",
       "      <th></th>\n",
       "      <th>Date</th>\n",
       "      <th>target</th>\n",
       "    </tr>\n",
       "  </thead>\n",
       "  <tbody>\n",
       "    <tr>\n",
       "      <th>0</th>\n",
       "      <td>1/1/2010</td>\n",
       "      <td>14611.110</td>\n",
       "    </tr>\n",
       "    <tr>\n",
       "      <th>1</th>\n",
       "      <td>2/1/2010</td>\n",
       "      <td>14653.075</td>\n",
       "    </tr>\n",
       "    <tr>\n",
       "      <th>2</th>\n",
       "      <td>3/1/2010</td>\n",
       "      <td>14779.004</td>\n",
       "    </tr>\n",
       "    <tr>\n",
       "      <th>3</th>\n",
       "      <td>4/1/2010</td>\n",
       "      <td>14842.404</td>\n",
       "    </tr>\n",
       "    <tr>\n",
       "      <th>4</th>\n",
       "      <td>5/1/2010</td>\n",
       "      <td>14875.794</td>\n",
       "    </tr>\n",
       "  </tbody>\n",
       "</table>\n",
       "</div>"
      ],
      "text/plain": [
       "       Date     target\n",
       "0  1/1/2010  14611.110\n",
       "1  2/1/2010  14653.075\n",
       "2  3/1/2010  14779.004\n",
       "3  4/1/2010  14842.404\n",
       "4  5/1/2010  14875.794"
      ]
     },
     "execution_count": 4,
     "metadata": {},
     "output_type": "execute_result"
    }
   ],
   "source": [
    "df_preds = df[['Date','target']]\n",
    "df_preds.head()"
   ]
  },
  {
   "cell_type": "code",
   "execution_count": 5,
   "metadata": {},
   "outputs": [
    {
     "name": "stderr",
     "output_type": "stream",
     "text": [
      "C:\\Users\\Administrator\\AppData\\Local\\Temp\\ipykernel_7108\\555547828.py:2: SettingWithCopyWarning:\n",
      "\n",
      "\n",
      "A value is trying to be set on a copy of a slice from a DataFrame.\n",
      "Try using .loc[row_indexer,col_indexer] = value instead\n",
      "\n",
      "See the caveats in the documentation: https://pandas.pydata.org/pandas-docs/stable/user_guide/indexing.html#returning-a-view-versus-a-copy\n",
      "\n"
     ]
    },
    {
     "data": {
      "text/html": [
       "<div>\n",
       "<style scoped>\n",
       "    .dataframe tbody tr th:only-of-type {\n",
       "        vertical-align: middle;\n",
       "    }\n",
       "\n",
       "    .dataframe tbody tr th {\n",
       "        vertical-align: top;\n",
       "    }\n",
       "\n",
       "    .dataframe thead th {\n",
       "        text-align: right;\n",
       "    }\n",
       "</style>\n",
       "<table border=\"1\" class=\"dataframe\">\n",
       "  <thead>\n",
       "    <tr style=\"text-align: right;\">\n",
       "      <th></th>\n",
       "      <th>target</th>\n",
       "    </tr>\n",
       "    <tr>\n",
       "      <th>Date</th>\n",
       "      <th></th>\n",
       "    </tr>\n",
       "  </thead>\n",
       "  <tbody>\n",
       "    <tr>\n",
       "      <th>2010-01-01</th>\n",
       "      <td>14611.110</td>\n",
       "    </tr>\n",
       "    <tr>\n",
       "      <th>2010-02-01</th>\n",
       "      <td>14653.075</td>\n",
       "    </tr>\n",
       "    <tr>\n",
       "      <th>2010-03-01</th>\n",
       "      <td>14779.004</td>\n",
       "    </tr>\n",
       "    <tr>\n",
       "      <th>2010-04-01</th>\n",
       "      <td>14842.404</td>\n",
       "    </tr>\n",
       "    <tr>\n",
       "      <th>2010-05-01</th>\n",
       "      <td>14875.794</td>\n",
       "    </tr>\n",
       "  </tbody>\n",
       "</table>\n",
       "</div>"
      ],
      "text/plain": [
       "               target\n",
       "Date                 \n",
       "2010-01-01  14611.110\n",
       "2010-02-01  14653.075\n",
       "2010-03-01  14779.004\n",
       "2010-04-01  14842.404\n",
       "2010-05-01  14875.794"
      ]
     },
     "execution_count": 5,
     "metadata": {},
     "output_type": "execute_result"
    }
   ],
   "source": [
    "import pandas as pd\n",
    "df_preds['Date'] = pd.to_datetime(df_preds['Date'])\n",
    "df_preds = df_preds.groupby('Date').sum()\n",
    "df_preds['target'] = df_preds['target'].fillna(0)\n",
    "df_preds.head()"
   ]
  },
  {
   "cell_type": "markdown",
   "metadata": {},
   "source": [
    "## PyCaret Time Series\n",
    "\n",
    "Version: 3.0.0.dev1638407153\n",
    "https://pypi.org/project/pycaret-ts-alpha/#history\n",
    "\n",
    "Must have sklearn version 0.23.0\n",
    "\n",
    "- https://pypi.org/project/pycaret-ts-alpha/\n",
    "- https://pycaret.readthedocs.io/en/time_series/api/time_series.html\n",
    "- https://github.com/pycaret/pycaret/issues/1588\n",
    "- https://github.com/pycaret/pycaret/discussions/1942\n",
    "- https://github.com/pycaret/pycaret/discussions/1757\n",
    "- https://github.com/pycaret/pycaret/discussions/1795\n",
    "- https://github.com/pycaret/pycaret/discussions/1791"
   ]
  },
  {
   "cell_type": "markdown",
   "metadata": {},
   "source": [
    "#### Things to figure out with setup still\n",
    "- Can we add outlier detection (Holidays)\n",
    "- Can we add regressors or multivariate (Currently not available)\n",
    "- Can we add multiple seasonalities (Daily of 7, Weekly of 52, Monthly of 12) or can we plot out tests of seasonality prior to setup (Peds has Weekly and Monthly)\n",
    "- Can we set the training test split date as a date, percentage of days.  Currently only number of days\n",
    "    - Could maybe code a function to get the number of days from a date"
   ]
  },
  {
   "cell_type": "code",
   "execution_count": 6,
   "metadata": {},
   "outputs": [
    {
     "ename": "AttributeError",
     "evalue": "module 'pandas' has no attribute 'Int64Index'",
     "output_type": "error",
     "traceback": [
      "\u001b[1;31m---------------------------------------------------------------------------\u001b[0m",
      "\u001b[1;31mAttributeError\u001b[0m                            Traceback (most recent call last)",
      "Cell \u001b[1;32mIn[6], line 2\u001b[0m\n\u001b[0;32m      1\u001b[0m \u001b[38;5;66;03m# with functional API\u001b[39;00m\n\u001b[1;32m----> 2\u001b[0m \u001b[38;5;28;01mfrom\u001b[39;00m \u001b[38;5;21;01mpycaret\u001b[39;00m\u001b[38;5;21;01m.\u001b[39;00m\u001b[38;5;21;01mtime_series\u001b[39;00m \u001b[38;5;28;01mimport\u001b[39;00m \u001b[38;5;241m*\u001b[39m\n\u001b[0;32m      3\u001b[0m setup(df_preds, \n\u001b[0;32m      4\u001b[0m       fh \u001b[38;5;241m=\u001b[39m \u001b[38;5;241m7\u001b[39m,  \u001b[38;5;66;03m#  # Originally 14\u001b[39;00m\n\u001b[0;32m      5\u001b[0m       fold \u001b[38;5;241m=\u001b[39m \u001b[38;5;241m3\u001b[39m, \n\u001b[1;32m   (...)\u001b[0m\n\u001b[0;32m      9\u001b[0m \u001b[38;5;66;03m#       profile = True, # Pandas Profile Report\u001b[39;00m\n\u001b[0;32m     10\u001b[0m       session_id \u001b[38;5;241m=\u001b[39m \u001b[38;5;241m123\u001b[39m)\n",
      "File \u001b[1;32mC:\\ProgramData\\Anaconda3\\lib\\site-packages\\pycaret\\time_series\\__init__.py:1\u001b[0m\n\u001b[1;32m----> 1\u001b[0m \u001b[38;5;28;01mfrom\u001b[39;00m \u001b[38;5;21;01mpycaret\u001b[39;00m\u001b[38;5;21;01m.\u001b[39;00m\u001b[38;5;21;01mtime_series\u001b[39;00m\u001b[38;5;21;01m.\u001b[39;00m\u001b[38;5;21;01mforecasting\u001b[39;00m\u001b[38;5;21;01m.\u001b[39;00m\u001b[38;5;21;01moop\u001b[39;00m \u001b[38;5;28;01mimport\u001b[39;00m TSForecastingExperiment\n\u001b[0;32m      2\u001b[0m \u001b[38;5;28;01mfrom\u001b[39;00m \u001b[38;5;21;01mpycaret\u001b[39;00m\u001b[38;5;21;01m.\u001b[39;00m\u001b[38;5;21;01mtime_series\u001b[39;00m\u001b[38;5;21;01m.\u001b[39;00m\u001b[38;5;21;01mforecasting\u001b[39;00m\u001b[38;5;21;01m.\u001b[39;00m\u001b[38;5;21;01mfunctional\u001b[39;00m \u001b[38;5;28;01mimport\u001b[39;00m (\n\u001b[0;32m      3\u001b[0m     setup,\n\u001b[0;32m      4\u001b[0m     create_model,\n\u001b[1;32m   (...)\u001b[0m\n\u001b[0;32m     25\u001b[0m     check_stats,\n\u001b[0;32m     26\u001b[0m )\n\u001b[0;32m     28\u001b[0m __all__ \u001b[38;5;241m=\u001b[39m [\n\u001b[0;32m     29\u001b[0m     \u001b[38;5;124m\"\u001b[39m\u001b[38;5;124mTSForecastingExperiment\u001b[39m\u001b[38;5;124m\"\u001b[39m,\n\u001b[0;32m     30\u001b[0m     \u001b[38;5;124m\"\u001b[39m\u001b[38;5;124msetup\u001b[39m\u001b[38;5;124m\"\u001b[39m,\n\u001b[1;32m   (...)\u001b[0m\n\u001b[0;32m     52\u001b[0m     \u001b[38;5;124m\"\u001b[39m\u001b[38;5;124mcheck_stats\u001b[39m\u001b[38;5;124m\"\u001b[39m,\n\u001b[0;32m     53\u001b[0m ]\n",
      "File \u001b[1;32mC:\\ProgramData\\Anaconda3\\lib\\site-packages\\pycaret\\time_series\\forecasting\\oop.py:15\u001b[0m\n\u001b[0;32m     13\u001b[0m \u001b[38;5;28;01mfrom\u001b[39;00m \u001b[38;5;21;01mIPython\u001b[39;00m\u001b[38;5;21;01m.\u001b[39;00m\u001b[38;5;21;01mutils\u001b[39;00m \u001b[38;5;28;01mimport\u001b[39;00m io\n\u001b[0;32m     14\u001b[0m \u001b[38;5;28;01mfrom\u001b[39;00m \u001b[38;5;21;01msklearn\u001b[39;00m\u001b[38;5;21;01m.\u001b[39;00m\u001b[38;5;21;01mbase\u001b[39;00m \u001b[38;5;28;01mimport\u001b[39;00m clone\n\u001b[1;32m---> 15\u001b[0m \u001b[38;5;28;01mfrom\u001b[39;00m \u001b[38;5;21;01msktime\u001b[39;00m\u001b[38;5;21;01m.\u001b[39;00m\u001b[38;5;21;01mforecasting\u001b[39;00m\u001b[38;5;21;01m.\u001b[39;00m\u001b[38;5;21;01mbase\u001b[39;00m \u001b[38;5;28;01mimport\u001b[39;00m ForecastingHorizon\n\u001b[0;32m     16\u001b[0m \u001b[38;5;28;01mfrom\u001b[39;00m \u001b[38;5;21;01msktime\u001b[39;00m\u001b[38;5;21;01m.\u001b[39;00m\u001b[38;5;21;01mforecasting\u001b[39;00m\u001b[38;5;21;01m.\u001b[39;00m\u001b[38;5;21;01mmodel_selection\u001b[39;00m \u001b[38;5;28;01mimport\u001b[39;00m (\n\u001b[0;32m     17\u001b[0m     temporal_train_test_split,\n\u001b[0;32m     18\u001b[0m     ExpandingWindowSplitter,\n\u001b[0;32m     19\u001b[0m     SlidingWindowSplitter,\n\u001b[0;32m     20\u001b[0m )\n\u001b[0;32m     22\u001b[0m \u001b[38;5;28;01mfrom\u001b[39;00m \u001b[38;5;21;01msktime\u001b[39;00m\u001b[38;5;21;01m.\u001b[39;00m\u001b[38;5;21;01mforecasting\u001b[39;00m\u001b[38;5;21;01m.\u001b[39;00m\u001b[38;5;21;01mbase\u001b[39;00m \u001b[38;5;28;01mimport\u001b[39;00m BaseForecaster\n",
      "File \u001b[1;32mC:\\ProgramData\\Anaconda3\\lib\\site-packages\\sktime\\forecasting\\base\\__init__.py:11\u001b[0m\n\u001b[0;32m      4\u001b[0m \u001b[38;5;124;03m\"\"\"Implements base classes for forecasting in sktime.\"\"\"\u001b[39;00m\n\u001b[0;32m      6\u001b[0m __all__ \u001b[38;5;241m=\u001b[39m [\n\u001b[0;32m      7\u001b[0m     \u001b[38;5;124m\"\u001b[39m\u001b[38;5;124mForecastingHorizon\u001b[39m\u001b[38;5;124m\"\u001b[39m,\n\u001b[0;32m      8\u001b[0m     \u001b[38;5;124m\"\u001b[39m\u001b[38;5;124mBaseForecaster\u001b[39m\u001b[38;5;124m\"\u001b[39m,\n\u001b[0;32m      9\u001b[0m ]\n\u001b[1;32m---> 11\u001b[0m \u001b[38;5;28;01mfrom\u001b[39;00m \u001b[38;5;21;01msktime\u001b[39;00m\u001b[38;5;21;01m.\u001b[39;00m\u001b[38;5;21;01mforecasting\u001b[39;00m\u001b[38;5;21;01m.\u001b[39;00m\u001b[38;5;21;01mbase\u001b[39;00m\u001b[38;5;21;01m.\u001b[39;00m\u001b[38;5;21;01m_fh\u001b[39;00m \u001b[38;5;28;01mimport\u001b[39;00m ForecastingHorizon\n\u001b[0;32m     12\u001b[0m \u001b[38;5;28;01mfrom\u001b[39;00m \u001b[38;5;21;01msktime\u001b[39;00m\u001b[38;5;21;01m.\u001b[39;00m\u001b[38;5;21;01mforecasting\u001b[39;00m\u001b[38;5;21;01m.\u001b[39;00m\u001b[38;5;21;01mbase\u001b[39;00m\u001b[38;5;21;01m.\u001b[39;00m\u001b[38;5;21;01m_base\u001b[39;00m \u001b[38;5;28;01mimport\u001b[39;00m BaseForecaster\n",
      "File \u001b[1;32mC:\\ProgramData\\Anaconda3\\lib\\site-packages\\sktime\\forecasting\\base\\_fh.py:15\u001b[0m\n\u001b[0;32m     12\u001b[0m \u001b[38;5;28;01mimport\u001b[39;00m \u001b[38;5;21;01mnumpy\u001b[39;00m \u001b[38;5;28;01mas\u001b[39;00m \u001b[38;5;21;01mnp\u001b[39;00m\n\u001b[0;32m     13\u001b[0m \u001b[38;5;28;01mimport\u001b[39;00m \u001b[38;5;21;01mpandas\u001b[39;00m \u001b[38;5;28;01mas\u001b[39;00m \u001b[38;5;21;01mpd\u001b[39;00m\n\u001b[1;32m---> 15\u001b[0m \u001b[38;5;28;01mfrom\u001b[39;00m \u001b[38;5;21;01msktime\u001b[39;00m\u001b[38;5;21;01m.\u001b[39;00m\u001b[38;5;21;01mutils\u001b[39;00m\u001b[38;5;21;01m.\u001b[39;00m\u001b[38;5;21;01mdatetime\u001b[39;00m \u001b[38;5;28;01mimport\u001b[39;00m _coerce_duration_to_int, _get_freq\n\u001b[0;32m     16\u001b[0m \u001b[38;5;28;01mfrom\u001b[39;00m \u001b[38;5;21;01msktime\u001b[39;00m\u001b[38;5;21;01m.\u001b[39;00m\u001b[38;5;21;01mutils\u001b[39;00m\u001b[38;5;21;01m.\u001b[39;00m\u001b[38;5;21;01mvalidation\u001b[39;00m\u001b[38;5;21;01m.\u001b[39;00m\u001b[38;5;21;01mseries\u001b[39;00m \u001b[38;5;28;01mimport\u001b[39;00m VALID_INDEX_TYPES\n\u001b[0;32m     18\u001b[0m RELATIVE_TYPES \u001b[38;5;241m=\u001b[39m (pd\u001b[38;5;241m.\u001b[39mInt64Index, pd\u001b[38;5;241m.\u001b[39mRangeIndex)\n",
      "File \u001b[1;32mC:\\ProgramData\\Anaconda3\\lib\\site-packages\\sktime\\utils\\datetime.py:14\u001b[0m\n\u001b[0;32m     11\u001b[0m \u001b[38;5;28;01mimport\u001b[39;00m \u001b[38;5;21;01mnumpy\u001b[39;00m \u001b[38;5;28;01mas\u001b[39;00m \u001b[38;5;21;01mnp\u001b[39;00m\n\u001b[0;32m     12\u001b[0m \u001b[38;5;28;01mimport\u001b[39;00m \u001b[38;5;21;01mpandas\u001b[39;00m \u001b[38;5;28;01mas\u001b[39;00m \u001b[38;5;21;01mpd\u001b[39;00m\n\u001b[1;32m---> 14\u001b[0m \u001b[38;5;28;01mfrom\u001b[39;00m \u001b[38;5;21;01msktime\u001b[39;00m\u001b[38;5;21;01m.\u001b[39;00m\u001b[38;5;21;01mutils\u001b[39;00m\u001b[38;5;21;01m.\u001b[39;00m\u001b[38;5;21;01mvalidation\u001b[39;00m\u001b[38;5;21;01m.\u001b[39;00m\u001b[38;5;21;01mseries\u001b[39;00m \u001b[38;5;28;01mimport\u001b[39;00m check_time_index\n\u001b[0;32m     17\u001b[0m \u001b[38;5;28;01mdef\u001b[39;00m \u001b[38;5;21m_coerce_duration_to_int\u001b[39m(duration, freq\u001b[38;5;241m=\u001b[39m\u001b[38;5;28;01mNone\u001b[39;00m):\n\u001b[0;32m     18\u001b[0m \u001b[38;5;250m    \u001b[39m\u001b[38;5;124;03m\"\"\"Coerce durations into integer representations for a given unit of duration.\u001b[39;00m\n\u001b[0;32m     19\u001b[0m \n\u001b[0;32m     20\u001b[0m \u001b[38;5;124;03m    Parameters\u001b[39;00m\n\u001b[1;32m   (...)\u001b[0m\n\u001b[0;32m     30\u001b[0m \u001b[38;5;124;03m        Duration in integer values for given unit\u001b[39;00m\n\u001b[0;32m     31\u001b[0m \u001b[38;5;124;03m    \"\"\"\u001b[39;00m\n",
      "File \u001b[1;32mC:\\ProgramData\\Anaconda3\\lib\\site-packages\\sktime\\utils\\validation\\series.py:21\u001b[0m\n\u001b[0;32m     19\u001b[0m \u001b[38;5;66;03m# We currently support the following types for input data and time index types.\u001b[39;00m\n\u001b[0;32m     20\u001b[0m VALID_DATA_TYPES \u001b[38;5;241m=\u001b[39m (pd\u001b[38;5;241m.\u001b[39mDataFrame, pd\u001b[38;5;241m.\u001b[39mSeries, np\u001b[38;5;241m.\u001b[39mndarray)\n\u001b[1;32m---> 21\u001b[0m VALID_INDEX_TYPES \u001b[38;5;241m=\u001b[39m (\u001b[43mpd\u001b[49m\u001b[38;5;241;43m.\u001b[39;49m\u001b[43mInt64Index\u001b[49m, pd\u001b[38;5;241m.\u001b[39mRangeIndex, pd\u001b[38;5;241m.\u001b[39mPeriodIndex, pd\u001b[38;5;241m.\u001b[39mDatetimeIndex)\n\u001b[0;32m     24\u001b[0m \u001b[38;5;28;01mdef\u001b[39;00m \u001b[38;5;21m_check_is_univariate\u001b[39m(y, var_name\u001b[38;5;241m=\u001b[39m\u001b[38;5;124m\"\u001b[39m\u001b[38;5;124minput\u001b[39m\u001b[38;5;124m\"\u001b[39m):\n\u001b[0;32m     25\u001b[0m \u001b[38;5;250m    \u001b[39m\u001b[38;5;124;03m\"\"\"Check if series is univariate.\"\"\"\u001b[39;00m\n",
      "\u001b[1;31mAttributeError\u001b[0m: module 'pandas' has no attribute 'Int64Index'"
     ]
    }
   ],
   "source": [
    "# with functional API\n",
    "from pycaret.time_series import *\n",
    "setup(df_preds, \n",
    "      fh = 7,  #  # Originally 14\n",
    "      fold = 3, \n",
    "      n_jobs = None,\n",
    "#       seasonal_period = 7, #7, 52\n",
    "#       enforce_pi = True, # Not currenty working\n",
    "#       profile = True, # Pandas Profile Report\n",
    "      session_id = 123)"
   ]
  },
  {
   "cell_type": "code",
   "execution_count": null,
   "metadata": {},
   "outputs": [],
   "source": [
    "# check_stats()"
   ]
  },
  {
   "cell_type": "code",
   "execution_count": null,
   "metadata": {},
   "outputs": [],
   "source": [
    "plot_model(plot = 'ts', fig_kwargs={'big_data_threshold': 1000})"
   ]
  },
  {
   "cell_type": "code",
   "execution_count": null,
   "metadata": {},
   "outputs": [],
   "source": [
    "plot_model(plot = 'cv')"
   ]
  },
  {
   "cell_type": "code",
   "execution_count": null,
   "metadata": {},
   "outputs": [],
   "source": [
    "plot_model(plot = 'diagnostics')"
   ]
  },
  {
   "cell_type": "markdown",
   "metadata": {},
   "source": [
    "#### Things to figure out with setup still\n",
    "- Can we add custom models into this section\n",
    "    - Would allow setting hyperparameters"
   ]
  },
  {
   "cell_type": "code",
   "execution_count": null,
   "metadata": {},
   "outputs": [],
   "source": [
    "best = compare_models(sort='RMSE',\n",
    "                      exclude=['br_cds_dt','catboost_cds_dt',\n",
    "                               'en_cds_dt','ridge_cds_dt','lar_cds_dt',\n",
    "                               'lr_cds_dt','lasso_cds_dt','gbr_cds_dt',\n",
    "                               'rf_cds_dt','huber_cds_dt','xgboost_cds_dt',\n",
    "                               'et_cds_dt','lightgbm_cds_dt','omp_cds_dt',\n",
    "                               'knn_cds_dt','dt_cds_dt','llar_cds_dt','ada_cds_dt',\n",
    "                               'par_cds_dt',\n",
    "                               'prophet','exp_smooth','snaive'], # These don't have full prediction functionality yet\n",
    "                      # include = ['tbats'],\n",
    "                      turbo=False)"
   ]
  },
  {
   "cell_type": "code",
   "execution_count": null,
   "metadata": {},
   "outputs": [],
   "source": [
    "best"
   ]
  },
  {
   "cell_type": "markdown",
   "metadata": {},
   "source": [
    "### Tune Model"
   ]
  },
  {
   "cell_type": "code",
   "execution_count": null,
   "metadata": {},
   "outputs": [],
   "source": [
    "# Random Grid Search\n",
    "tuned_model = tune_model(best)\n",
    "# Not currently tuning model\n",
    "# tuned_model = best\n",
    "print(tuned_model)"
   ]
  },
  {
   "cell_type": "code",
   "execution_count": null,
   "metadata": {},
   "outputs": [],
   "source": [
    "# forecast in unknown future\n",
    "plot_model(tuned_model, plot = 'forecast')"
   ]
  },
  {
   "cell_type": "code",
   "execution_count": null,
   "metadata": {},
   "outputs": [],
   "source": [
    "#in-sample plot\n",
    "plot_model(tuned_model, plot = 'insample')"
   ]
  },
  {
   "cell_type": "code",
   "execution_count": null,
   "metadata": {},
   "outputs": [],
   "source": [
    "# residuals plot\n",
    "plot_model(tuned_model, plot = 'residuals')"
   ]
  },
  {
   "cell_type": "code",
   "execution_count": null,
   "metadata": {},
   "outputs": [],
   "source": [
    "# Get the first and last date that we have allocation data for\n",
    "import datetime\n",
    "\n",
    "days_to_pred = datetime.datetime.now() + datetime.timedelta(days=14)\n",
    "days_since_allocation = ((days_to_pred - pd.to_datetime('2022-01-14')).days) + 1\n",
    "\n",
    "# generate predictions\n",
    "preds = predict_model(tuned_model, fh = days_since_allocation, return_pred_int=True, round=0, alpha = 0.10)\n",
    "preds = preds.reset_index()\n",
    "preds = preds.rename(columns={\"index\": \"Date\"})\n",
    "preds['Date'] = pd.to_datetime(preds['Date'].dt.to_timestamp('s').dt.strftime('%Y-%m-%d %H:%M:%S.000'))\n",
    "preds['Version'] = pd.to_datetime(datetime.datetime.now().strftime('%Y-%m-%d'))\n",
    "preds['Version'] = preds['Version'].astype(str)\n",
    "preds = preds.rename(columns={\"y_pred\": \"Predicted_Usage\",\n",
    "                              \"lower\": \"Lower_Usage_Confidence\",\n",
    "                              \"upper\": \"Upper_Usage_Confidence\"})\n",
    "\n",
    "preds"
   ]
  },
  {
   "cell_type": "code",
   "execution_count": null,
   "metadata": {},
   "outputs": [],
   "source": []
  },
  {
   "cell_type": "code",
   "execution_count": null,
   "metadata": {},
   "outputs": [],
   "source": []
  }
 ],
 "metadata": {
  "interpreter": {
   "hash": "c161a91f6f4623a54f30c5492a42e7cf0592610fb90c8abd312086f09f8fbe0f"
  },
  "kernelspec": {
   "display_name": "Python 3 (ipykernel)",
   "language": "python",
   "name": "python3"
  },
  "language_info": {
   "codemirror_mode": {
    "name": "ipython",
    "version": 3
   },
   "file_extension": ".py",
   "mimetype": "text/x-python",
   "name": "python",
   "nbconvert_exporter": "python",
   "pygments_lexer": "ipython3",
   "version": "3.9.18"
  }
 },
 "nbformat": 4,
 "nbformat_minor": 4
}
